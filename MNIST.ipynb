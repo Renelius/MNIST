{
 "cells": [
  {
   "cell_type": "code",
   "execution_count": 59,
   "metadata": {},
   "outputs": [],
   "source": [
    "# Решение задачи MNIST по предсказанию рукописных цифр от 0 до 9"
   ]
  },
  {
   "cell_type": "code",
   "execution_count": null,
   "metadata": {},
   "outputs": [],
   "source": [
    "import pandas as pd\n",
    "import numpy as np\n",
    "import matplotlib.pyplot as plt\n",
    "import seaborn as sns\n",
    "import keras\n",
    "from keras import models\n",
    "from keras import layers\n",
    "from keras import optimizers\n",
    "from sklearn.preprocessing import OneHotEncoder\n",
    "from sklearn.model_selection import StratifiedShuffleSplit"
   ]
  },
  {
   "cell_type": "code",
   "execution_count": 2,
   "metadata": {},
   "outputs": [],
   "source": [
    "train=pd.read_csv('train.csv')"
   ]
  },
  {
   "cell_type": "code",
   "execution_count": 124,
   "metadata": {},
   "outputs": [],
   "source": [
    "test=pd.read_csv('test.csv')"
   ]
  },
  {
   "cell_type": "code",
   "execution_count": null,
   "metadata": {},
   "outputs": [],
   "source": [
    "submit=pd.read_csv('sample_submission.csv')"
   ]
  },
  {
   "cell_type": "code",
   "execution_count": null,
   "metadata": {},
   "outputs": [],
   "source": [
    "# Данные содержат label(цифру) и 784 пикселя (28*28)"
   ]
  },
  {
   "cell_type": "code",
   "execution_count": 8,
   "metadata": {
    "collapsed": true
   },
   "outputs": [
    {
     "data": {
      "text/html": [
       "<div>\n",
       "<style scoped>\n",
       "    .dataframe tbody tr th:only-of-type {\n",
       "        vertical-align: middle;\n",
       "    }\n",
       "\n",
       "    .dataframe tbody tr th {\n",
       "        vertical-align: top;\n",
       "    }\n",
       "\n",
       "    .dataframe thead th {\n",
       "        text-align: right;\n",
       "    }\n",
       "</style>\n",
       "<table border=\"1\" class=\"dataframe\">\n",
       "  <thead>\n",
       "    <tr style=\"text-align: right;\">\n",
       "      <th></th>\n",
       "      <th>label</th>\n",
       "      <th>pixel0</th>\n",
       "      <th>pixel1</th>\n",
       "      <th>pixel2</th>\n",
       "      <th>pixel3</th>\n",
       "      <th>pixel4</th>\n",
       "      <th>pixel5</th>\n",
       "      <th>pixel6</th>\n",
       "      <th>pixel7</th>\n",
       "      <th>pixel8</th>\n",
       "      <th>...</th>\n",
       "      <th>pixel774</th>\n",
       "      <th>pixel775</th>\n",
       "      <th>pixel776</th>\n",
       "      <th>pixel777</th>\n",
       "      <th>pixel778</th>\n",
       "      <th>pixel779</th>\n",
       "      <th>pixel780</th>\n",
       "      <th>pixel781</th>\n",
       "      <th>pixel782</th>\n",
       "      <th>pixel783</th>\n",
       "    </tr>\n",
       "  </thead>\n",
       "  <tbody>\n",
       "    <tr>\n",
       "      <td>0</td>\n",
       "      <td>1</td>\n",
       "      <td>0</td>\n",
       "      <td>0</td>\n",
       "      <td>0</td>\n",
       "      <td>0</td>\n",
       "      <td>0</td>\n",
       "      <td>0</td>\n",
       "      <td>0</td>\n",
       "      <td>0</td>\n",
       "      <td>0</td>\n",
       "      <td>...</td>\n",
       "      <td>0</td>\n",
       "      <td>0</td>\n",
       "      <td>0</td>\n",
       "      <td>0</td>\n",
       "      <td>0</td>\n",
       "      <td>0</td>\n",
       "      <td>0</td>\n",
       "      <td>0</td>\n",
       "      <td>0</td>\n",
       "      <td>0</td>\n",
       "    </tr>\n",
       "    <tr>\n",
       "      <td>1</td>\n",
       "      <td>0</td>\n",
       "      <td>0</td>\n",
       "      <td>0</td>\n",
       "      <td>0</td>\n",
       "      <td>0</td>\n",
       "      <td>0</td>\n",
       "      <td>0</td>\n",
       "      <td>0</td>\n",
       "      <td>0</td>\n",
       "      <td>0</td>\n",
       "      <td>...</td>\n",
       "      <td>0</td>\n",
       "      <td>0</td>\n",
       "      <td>0</td>\n",
       "      <td>0</td>\n",
       "      <td>0</td>\n",
       "      <td>0</td>\n",
       "      <td>0</td>\n",
       "      <td>0</td>\n",
       "      <td>0</td>\n",
       "      <td>0</td>\n",
       "    </tr>\n",
       "    <tr>\n",
       "      <td>2</td>\n",
       "      <td>1</td>\n",
       "      <td>0</td>\n",
       "      <td>0</td>\n",
       "      <td>0</td>\n",
       "      <td>0</td>\n",
       "      <td>0</td>\n",
       "      <td>0</td>\n",
       "      <td>0</td>\n",
       "      <td>0</td>\n",
       "      <td>0</td>\n",
       "      <td>...</td>\n",
       "      <td>0</td>\n",
       "      <td>0</td>\n",
       "      <td>0</td>\n",
       "      <td>0</td>\n",
       "      <td>0</td>\n",
       "      <td>0</td>\n",
       "      <td>0</td>\n",
       "      <td>0</td>\n",
       "      <td>0</td>\n",
       "      <td>0</td>\n",
       "    </tr>\n",
       "    <tr>\n",
       "      <td>3</td>\n",
       "      <td>4</td>\n",
       "      <td>0</td>\n",
       "      <td>0</td>\n",
       "      <td>0</td>\n",
       "      <td>0</td>\n",
       "      <td>0</td>\n",
       "      <td>0</td>\n",
       "      <td>0</td>\n",
       "      <td>0</td>\n",
       "      <td>0</td>\n",
       "      <td>...</td>\n",
       "      <td>0</td>\n",
       "      <td>0</td>\n",
       "      <td>0</td>\n",
       "      <td>0</td>\n",
       "      <td>0</td>\n",
       "      <td>0</td>\n",
       "      <td>0</td>\n",
       "      <td>0</td>\n",
       "      <td>0</td>\n",
       "      <td>0</td>\n",
       "    </tr>\n",
       "    <tr>\n",
       "      <td>4</td>\n",
       "      <td>0</td>\n",
       "      <td>0</td>\n",
       "      <td>0</td>\n",
       "      <td>0</td>\n",
       "      <td>0</td>\n",
       "      <td>0</td>\n",
       "      <td>0</td>\n",
       "      <td>0</td>\n",
       "      <td>0</td>\n",
       "      <td>0</td>\n",
       "      <td>...</td>\n",
       "      <td>0</td>\n",
       "      <td>0</td>\n",
       "      <td>0</td>\n",
       "      <td>0</td>\n",
       "      <td>0</td>\n",
       "      <td>0</td>\n",
       "      <td>0</td>\n",
       "      <td>0</td>\n",
       "      <td>0</td>\n",
       "      <td>0</td>\n",
       "    </tr>\n",
       "  </tbody>\n",
       "</table>\n",
       "<p>5 rows × 785 columns</p>\n",
       "</div>"
      ],
      "text/plain": [
       "   label  pixel0  pixel1  pixel2  pixel3  pixel4  pixel5  pixel6  pixel7  \\\n",
       "0      1       0       0       0       0       0       0       0       0   \n",
       "1      0       0       0       0       0       0       0       0       0   \n",
       "2      1       0       0       0       0       0       0       0       0   \n",
       "3      4       0       0       0       0       0       0       0       0   \n",
       "4      0       0       0       0       0       0       0       0       0   \n",
       "\n",
       "   pixel8  ...  pixel774  pixel775  pixel776  pixel777  pixel778  pixel779  \\\n",
       "0       0  ...         0         0         0         0         0         0   \n",
       "1       0  ...         0         0         0         0         0         0   \n",
       "2       0  ...         0         0         0         0         0         0   \n",
       "3       0  ...         0         0         0         0         0         0   \n",
       "4       0  ...         0         0         0         0         0         0   \n",
       "\n",
       "   pixel780  pixel781  pixel782  pixel783  \n",
       "0         0         0         0         0  \n",
       "1         0         0         0         0  \n",
       "2         0         0         0         0  \n",
       "3         0         0         0         0  \n",
       "4         0         0         0         0  \n",
       "\n",
       "[5 rows x 785 columns]"
      ]
     },
     "execution_count": 8,
     "metadata": {},
     "output_type": "execute_result"
    }
   ],
   "source": [
    "train.head()"
   ]
  },
  {
   "cell_type": "code",
   "execution_count": 10,
   "metadata": {
    "collapsed": true
   },
   "outputs": [
    {
     "name": "stdout",
     "output_type": "stream",
     "text": [
      "<class 'pandas.core.frame.DataFrame'>\n",
      "RangeIndex: 42000 entries, 0 to 41999\n",
      "Columns: 785 entries, label to pixel783\n",
      "dtypes: int64(785)\n",
      "memory usage: 251.5 MB\n"
     ]
    }
   ],
   "source": [
    "train.info()"
   ]
  },
  {
   "cell_type": "code",
   "execution_count": 28,
   "metadata": {
    "collapsed": true
   },
   "outputs": [
    {
     "ename": "AttributeError",
     "evalue": "'numpy.ndarray' object has no attribute 'describe'",
     "output_type": "error",
     "traceback": [
      "\u001b[1;31m---------------------------------------------------------------------------\u001b[0m",
      "\u001b[1;31mAttributeError\u001b[0m                            Traceback (most recent call last)",
      "\u001b[1;32m<ipython-input-28-9d771e2afdf3>\u001b[0m in \u001b[0;36m<module>\u001b[1;34m\u001b[0m\n\u001b[1;32m----> 1\u001b[1;33m \u001b[0mX_train\u001b[0m\u001b[1;33m.\u001b[0m\u001b[0mdescribe\u001b[0m\u001b[1;33m(\u001b[0m\u001b[1;33m)\u001b[0m\u001b[1;33m\u001b[0m\u001b[1;33m\u001b[0m\u001b[0m\n\u001b[0m",
      "\u001b[1;31mAttributeError\u001b[0m: 'numpy.ndarray' object has no attribute 'describe'"
     ]
    }
   ],
   "source": [
    "train.describe()"
   ]
  },
  {
   "cell_type": "code",
   "execution_count": 60,
   "metadata": {},
   "outputs": [],
   "source": [
    "# Разобьем данные на тренировочный и тестовый набор\n",
    "split = StratifiedShuffleSplit(n_splits=1, test_size=0.2, random_state=42)"
   ]
  },
  {
   "cell_type": "code",
   "execution_count": 62,
   "metadata": {},
   "outputs": [],
   "source": [
    "for train_index, test_index in split.split(train, train['label']):\n",
    "    train_train=train.loc[train_index]\n",
    "    train_test=train.loc[test_index]"
   ]
  },
  {
   "cell_type": "code",
   "execution_count": 82,
   "metadata": {},
   "outputs": [],
   "source": [
    "X_train=train_train.drop('label',axis=1).values\n",
    "X_train=X_train/255\n",
    "X_test=train_test.drop('label',axis=1).values\n",
    "X_test=X_test/255"
   ]
  },
  {
   "cell_type": "code",
   "execution_count": 126,
   "metadata": {},
   "outputs": [],
   "source": [
    "kaggle_test=test/255\n",
    "kaggle_test=kaggle_test.values"
   ]
  },
  {
   "cell_type": "code",
   "execution_count": 70,
   "metadata": {},
   "outputs": [],
   "source": [
    "y_train=train_train[['label']].values\n",
    "y_test=train_test[['label']].values"
   ]
  },
  {
   "cell_type": "code",
   "execution_count": 53,
   "metadata": {},
   "outputs": [],
   "source": [
    "# кодировка цифр как категориального признака\n",
    "ohe=OneHotEncoder(sparse=False)"
   ]
  },
  {
   "cell_type": "code",
   "execution_count": 75,
   "metadata": {},
   "outputs": [],
   "source": [
    "y_train=ohe.fit_transform(y_train)\n",
    "y_test=ohe.fit_transform(y_test)"
   ]
  },
  {
   "cell_type": "code",
   "execution_count": 98,
   "metadata": {},
   "outputs": [],
   "source": [
    "# Структура нейросети на keras\n",
    "opt = keras.optimizers.Adam(learning_rate=0.01)\n",
    "model=models.Sequential()\n",
    "model.add(layers.Dense(300, activation='relu',input_shape=(784,)))\n",
    "model.add(layers.Dense(100, activation='relu'))\n",
    "model.add(layers.Dense(10, activation='softmax'))\n",
    "model.compile(optimizer='rmsprop',\n",
    "              loss='categorical_crossentropy',\n",
    "              metrics=['accuracy'])"
   ]
  },
  {
   "cell_type": "code",
   "execution_count": 99,
   "metadata": {
    "collapsed": true
   },
   "outputs": [
    {
     "name": "stdout",
     "output_type": "stream",
     "text": [
      "Epoch 1/30\n",
      "66/66 [==============================] - 2s 27ms/step - loss: 0.5474 - accuracy: 0.8441 - val_loss: 0.3138 - val_accuracy: 0.9067\n",
      "Epoch 2/30\n",
      "66/66 [==============================] - 2s 27ms/step - loss: 0.2332 - accuracy: 0.9309 - val_loss: 0.2062 - val_accuracy: 0.9396\n",
      "Epoch 3/30\n",
      "66/66 [==============================] - 2s 28ms/step - loss: 0.1603 - accuracy: 0.9544 - val_loss: 0.1679 - val_accuracy: 0.9495\n",
      "Epoch 4/30\n",
      "66/66 [==============================] - 2s 26ms/step - loss: 0.1233 - accuracy: 0.9626 - val_loss: 0.1267 - val_accuracy: 0.9615\n",
      "Epoch 5/30\n",
      "66/66 [==============================] - 2s 25ms/step - loss: 0.0941 - accuracy: 0.9729 - val_loss: 0.1196 - val_accuracy: 0.9623\n",
      "Epoch 6/30\n",
      "66/66 [==============================] - 2s 25ms/step - loss: 0.0769 - accuracy: 0.9772 - val_loss: 0.1304 - val_accuracy: 0.9576\n",
      "Epoch 7/30\n",
      "66/66 [==============================] - 2s 27ms/step - loss: 0.0611 - accuracy: 0.9819 - val_loss: 0.1674 - val_accuracy: 0.9483\n",
      "Epoch 8/30\n",
      "66/66 [==============================] - 2s 26ms/step - loss: 0.0505 - accuracy: 0.9855 - val_loss: 0.0978 - val_accuracy: 0.9702\n",
      "Epoch 9/30\n",
      "66/66 [==============================] - 2s 26ms/step - loss: 0.0395 - accuracy: 0.9882 - val_loss: 0.0934 - val_accuracy: 0.9708\n",
      "Epoch 10/30\n",
      "66/66 [==============================] - 2s 28ms/step - loss: 0.0329 - accuracy: 0.9906 - val_loss: 0.0962 - val_accuracy: 0.9714\n",
      "Epoch 11/30\n",
      "66/66 [==============================] - 2s 28ms/step - loss: 0.0261 - accuracy: 0.9928 - val_loss: 0.0916 - val_accuracy: 0.9725\n",
      "Epoch 12/30\n",
      "66/66 [==============================] - 2s 30ms/step - loss: 0.0215 - accuracy: 0.9938 - val_loss: 0.1044 - val_accuracy: 0.9700\n",
      "Epoch 13/30\n",
      "66/66 [==============================] - 2s 34ms/step - loss: 0.0166 - accuracy: 0.9960 - val_loss: 0.0969 - val_accuracy: 0.9723\n",
      "Epoch 14/30\n",
      "66/66 [==============================] - 2s 30ms/step - loss: 0.0154 - accuracy: 0.9960 - val_loss: 0.0992 - val_accuracy: 0.9723\n",
      "Epoch 15/30\n",
      "66/66 [==============================] - 2s 29ms/step - loss: 0.0124 - accuracy: 0.9970 - val_loss: 0.0944 - val_accuracy: 0.9752\n",
      "Epoch 16/30\n",
      "66/66 [==============================] - 2s 27ms/step - loss: 0.0116 - accuracy: 0.9967 - val_loss: 0.0902 - val_accuracy: 0.9760\n",
      "Epoch 17/30\n",
      "66/66 [==============================] - 2s 25ms/step - loss: 0.0090 - accuracy: 0.9972 - val_loss: 0.0971 - val_accuracy: 0.9751\n",
      "Epoch 18/30\n",
      "66/66 [==============================] - 2s 26ms/step - loss: 0.0069 - accuracy: 0.9982 - val_loss: 0.1001 - val_accuracy: 0.9749\n",
      "Epoch 19/30\n",
      "66/66 [==============================] - 2s 26ms/step - loss: 0.0057 - accuracy: 0.9986 - val_loss: 0.1035 - val_accuracy: 0.9768\n",
      "Epoch 20/30\n",
      "66/66 [==============================] - 2s 27ms/step - loss: 0.0052 - accuracy: 0.9989 - val_loss: 0.1129 - val_accuracy: 0.9738\n",
      "Epoch 21/30\n",
      "66/66 [==============================] - 2s 27ms/step - loss: 0.0045 - accuracy: 0.9988 - val_loss: 0.1172 - val_accuracy: 0.9743\n",
      "Epoch 22/30\n",
      "66/66 [==============================] - 2s 29ms/step - loss: 0.0056 - accuracy: 0.9987 - val_loss: 0.1317 - val_accuracy: 0.9727\n",
      "Epoch 23/30\n",
      "66/66 [==============================] - 2s 25ms/step - loss: 0.0034 - accuracy: 0.9990 - val_loss: 0.1170 - val_accuracy: 0.9754\n",
      "Epoch 24/30\n",
      "66/66 [==============================] - 2s 26ms/step - loss: 0.0039 - accuracy: 0.9990 - val_loss: 0.1158 - val_accuracy: 0.9757\n",
      "Epoch 25/30\n",
      "66/66 [==============================] - 2s 25ms/step - loss: 0.0027 - accuracy: 0.9994 - val_loss: 0.1198 - val_accuracy: 0.9755\n",
      "Epoch 26/30\n",
      "66/66 [==============================] - 2s 25ms/step - loss: 0.0031 - accuracy: 0.9993 - val_loss: 0.1191 - val_accuracy: 0.9764\n",
      "Epoch 27/30\n",
      "66/66 [==============================] - 2s 25ms/step - loss: 0.0017 - accuracy: 0.9996 - val_loss: 0.1156 - val_accuracy: 0.9776\n",
      "Epoch 28/30\n",
      "66/66 [==============================] - 2s 27ms/step - loss: 0.0023 - accuracy: 0.9994 - val_loss: 0.1212 - val_accuracy: 0.9774\n",
      "Epoch 29/30\n",
      "66/66 [==============================] - 2s 30ms/step - loss: 0.0019 - accuracy: 0.9995 - val_loss: 0.1278 - val_accuracy: 0.9764\n",
      "Epoch 30/30\n",
      "66/66 [==============================] - 2s 28ms/step - loss: 0.0025 - accuracy: 0.9994 - val_loss: 0.1242 - val_accuracy: 0.9769\n"
     ]
    }
   ],
   "source": [
    "history = model.fit(X_train,\n",
    "                    y_train,\n",
    "                    epochs=30,\n",
    "                    batch_size=512,\n",
    "                    validation_data=(X_test, y_test))"
   ]
  },
  {
   "cell_type": "code",
   "execution_count": 100,
   "metadata": {
    "collapsed": true
   },
   "outputs": [
    {
     "data": {
      "text/plain": [
       "[<matplotlib.lines.Line2D at 0x21981bc8488>]"
      ]
     },
     "execution_count": 100,
     "metadata": {},
     "output_type": "execute_result"
    },
    {
     "data": {
      "image/png": "[encoded data removed]",
      "text/plain": [
       "<Figure size 432x288 with 1 Axes>"
      ]
     },
     "metadata": {
      "needs_background": "light"
     },
     "output_type": "display_data"
    }
   ],
   "source": [
    "acc = history.history['accuracy']\n",
    "val_acc = history.history['val_accuracy']\n",
    "loss = history.history['loss']\n",
    "val_loss = history.history['val_loss']\n",
    "\n",
    "epochs = range(1, len(acc) + 1)\n",
    "\n",
    "plt.plot(epochs, acc, 'b',color='r', label='Training loss')\n",
    "plt.plot(epochs, val_acc, 'b', label='Validation loss')"
   ]
  },
  {
   "cell_type": "code",
   "execution_count": 127,
   "metadata": {},
   "outputs": [],
   "source": [
    "# Предсказание\n",
    "predict=model.predict(kaggle_test)"
   ]
  },
  {
   "cell_type": "code",
   "execution_count": 144,
   "metadata": {
    "collapsed": true
   },
   "outputs": [
    {
     "data": {
      "text/plain": [
       "array([[1.1545199e-22, 3.0789942e-23, 1.0000000e+00, 3.2353591e-17,\n",
       "        3.3052030e-18, 8.4018104e-25, 1.9720434e-21, 1.2795416e-15,\n",
       "        1.0527639e-21, 1.0296750e-23],\n",
       "       [1.0000000e+00, 2.1186265e-20, 3.4147235e-14, 1.2618679e-16,\n",
       "        9.7657596e-20, 5.2799307e-09, 2.1975824e-14, 2.0704392e-14,\n",
       "        1.5681503e-17, 2.6770578e-15],\n",
       "       [1.5571137e-13, 8.8744436e-08, 9.7180406e-09, 1.3042262e-07,\n",
       "        3.1194891e-06, 4.0442322e-10, 7.1254406e-13, 2.2313914e-08,\n",
       "        5.2181986e-07, 9.9999607e-01],\n",
       "       [1.4787413e-05, 1.6881273e-10, 6.1875052e-04, 3.8233157e-08,\n",
       "        4.9840463e-03, 1.4603282e-10, 3.1657839e-09, 7.7525256e-06,\n",
       "        1.9092093e-07, 9.9437439e-01],\n",
       "       [1.0434647e-20, 6.1256382e-11, 3.4239767e-11, 1.0000000e+00,\n",
       "        3.5006930e-21, 1.6144172e-10, 1.8044158e-22, 1.1894329e-16,\n",
       "        1.2646926e-11, 2.0847070e-12]], dtype=float32)"
      ]
     },
     "execution_count": 144,
     "metadata": {},
     "output_type": "execute_result"
    }
   ],
   "source": [
    "predict[:5]"
   ]
  },
  {
   "cell_type": "code",
   "execution_count": 142,
   "metadata": {},
   "outputs": [],
   "source": [
    "sibmit_predict=[]\n",
    "for i in predict:\n",
    "    sibmit_predict.append(i.argmax())\n",
    "sibmit_predict=np.array(sibmit_predict)"
   ]
  },
  {
   "cell_type": "code",
   "execution_count": 151,
   "metadata": {},
   "outputs": [],
   "source": [
    "MNIST_submissions=pd.DataFrame({'ImageId':range(1,28001),'Label':sibmit_predict})\n",
    "MNIST_submissions.set_index('ImageId', inplace=True)"
   ]
  },
  {
   "cell_type": "code",
   "execution_count": 153,
   "metadata": {},
   "outputs": [],
   "source": [
    "MNIST_submissions.to_csv('MNIST_submissions.csv')"
   ]
  },
  {
   "cell_type": "code",
   "execution_count": 152,
   "metadata": {
    "collapsed": true
   },
   "outputs": [
    {
     "data": {
      "text/html": [
       "<div>\n",
       "<style scoped>\n",
       "    .dataframe tbody tr th:only-of-type {\n",
       "        vertical-align: middle;\n",
       "    }\n",
       "\n",
       "    .dataframe tbody tr th {\n",
       "        vertical-align: top;\n",
       "    }\n",
       "\n",
       "    .dataframe thead th {\n",
       "        text-align: right;\n",
       "    }\n",
       "</style>\n",
       "<table border=\"1\" class=\"dataframe\">\n",
       "  <thead>\n",
       "    <tr style=\"text-align: right;\">\n",
       "      <th></th>\n",
       "      <th>Label</th>\n",
       "    </tr>\n",
       "    <tr>\n",
       "      <th>ImageId</th>\n",
       "      <th></th>\n",
       "    </tr>\n",
       "  </thead>\n",
       "  <tbody>\n",
       "    <tr>\n",
       "      <td>1</td>\n",
       "      <td>2</td>\n",
       "    </tr>\n",
       "    <tr>\n",
       "      <td>2</td>\n",
       "      <td>0</td>\n",
       "    </tr>\n",
       "    <tr>\n",
       "      <td>3</td>\n",
       "      <td>9</td>\n",
       "    </tr>\n",
       "    <tr>\n",
       "      <td>4</td>\n",
       "      <td>9</td>\n",
       "    </tr>\n",
       "    <tr>\n",
       "      <td>5</td>\n",
       "      <td>3</td>\n",
       "    </tr>\n",
       "    <tr>\n",
       "      <td>...</td>\n",
       "      <td>...</td>\n",
       "    </tr>\n",
       "    <tr>\n",
       "      <td>27996</td>\n",
       "      <td>9</td>\n",
       "    </tr>\n",
       "    <tr>\n",
       "      <td>27997</td>\n",
       "      <td>7</td>\n",
       "    </tr>\n",
       "    <tr>\n",
       "      <td>27998</td>\n",
       "      <td>3</td>\n",
       "    </tr>\n",
       "    <tr>\n",
       "      <td>27999</td>\n",
       "      <td>9</td>\n",
       "    </tr>\n",
       "    <tr>\n",
       "      <td>28000</td>\n",
       "      <td>2</td>\n",
       "    </tr>\n",
       "  </tbody>\n",
       "</table>\n",
       "<p>28000 rows × 1 columns</p>\n",
       "</div>"
      ],
      "text/plain": [
       "         Label\n",
       "ImageId       \n",
       "1            2\n",
       "2            0\n",
       "3            9\n",
       "4            9\n",
       "5            3\n",
       "...        ...\n",
       "27996        9\n",
       "27997        7\n",
       "27998        3\n",
       "27999        9\n",
       "28000        2\n",
       "\n",
       "[28000 rows x 1 columns]"
      ]
     },
     "execution_count": 152,
     "metadata": {},
     "output_type": "execute_result"
    }
   ],
   "source": [
    "MNIST_submissions"
   ]
  },
  {
   "cell_type": "code",
   "execution_count": null,
   "metadata": {},
   "outputs": [],
   "source": []
  },
  {
   "cell_type": "code",
   "execution_count": null,
   "metadata": {},
   "outputs": [],
   "source": []
  },
  {
   "cell_type": "code",
   "execution_count": null,
   "metadata": {},
   "outputs": [],
   "source": []
  },
  {
   "cell_type": "code",
   "execution_count": null,
   "metadata": {},
   "outputs": [],
   "source": []
  }
 ],
 "metadata": {
  "kernelspec": {
   "display_name": "Python 3",
   "language": "python",
   "name": "python3"
  },
  "language_info": {
   "codemirror_mode": {
    "name": "ipython",
    "version": 3
   },
   "file_extension": ".py",
   "mimetype": "text/x-python",
   "name": "python",
   "nbconvert_exporter": "python",
   "pygments_lexer": "ipython3",
   "version": "3.7.4"
  }
 },
 "nbformat": 4,
 "nbformat_minor": 2
}
